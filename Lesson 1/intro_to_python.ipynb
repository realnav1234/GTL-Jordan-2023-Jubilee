{
 "cells": [
  {
   "attachments": {},
   "cell_type": "markdown",
   "metadata": {},
   "source": [
    "# Intro to Python"
   ]
  },
  {
   "attachments": {},
   "cell_type": "markdown",
   "metadata": {},
   "source": [
    "---"
   ]
  },
  {
   "attachments": {},
   "cell_type": "markdown",
   "metadata": {},
   "source": [
    "## Section 1: Data Types"
   ]
  },
  {
   "attachments": {},
   "cell_type": "markdown",
   "metadata": {},
   "source": [
    "`int` and `float`"
   ]
  },
  {
   "cell_type": "code",
   "execution_count": null,
   "metadata": {},
   "outputs": [],
   "source": [
    "# Here, -5 is an int type\n",
    "-5"
   ]
  },
  {
   "cell_type": "code",
   "execution_count": 55,
   "metadata": {},
   "outputs": [
    {
     "name": "stdout",
     "output_type": "stream",
     "text": [
      "<class 'int'>\n"
     ]
    }
   ],
   "source": [
    "print(type(-5))"
   ]
  },
  {
   "cell_type": "code",
   "execution_count": null,
   "metadata": {},
   "outputs": [],
   "source": [
    "# While 4.2 is a float type\n",
    "4.2"
   ]
  },
  {
   "cell_type": "code",
   "execution_count": 56,
   "metadata": {},
   "outputs": [
    {
     "name": "stdout",
     "output_type": "stream",
     "text": [
      "<class 'float'>\n"
     ]
    }
   ],
   "source": [
    "print(type(4.2))"
   ]
  },
  {
   "cell_type": "code",
   "execution_count": null,
   "metadata": {},
   "outputs": [],
   "source": [
    "# What is the result of running the following?\n",
    "print(type(5+3))"
   ]
  },
  {
   "cell_type": "code",
   "execution_count": null,
   "metadata": {},
   "outputs": [],
   "source": [
    "# Here?\n",
    "print(type(-4.2+8.4))"
   ]
  },
  {
   "cell_type": "code",
   "execution_count": null,
   "metadata": {},
   "outputs": [],
   "source": [
    "# Here?\n",
    "print(type(-5+4.2))"
   ]
  },
  {
   "attachments": {},
   "cell_type": "markdown",
   "metadata": {},
   "source": [
    "Operations with `int` and `float`"
   ]
  },
  {
   "cell_type": "code",
   "execution_count": 57,
   "metadata": {},
   "outputs": [
    {
     "name": "stdout",
     "output_type": "stream",
     "text": [
      "8\n"
     ]
    }
   ],
   "source": [
    "print(5+3) #add"
   ]
  },
  {
   "cell_type": "code",
   "execution_count": 58,
   "metadata": {},
   "outputs": [
    {
     "name": "stdout",
     "output_type": "stream",
     "text": [
      "1.2\n"
     ]
    }
   ],
   "source": [
    "print(2.4-1.2) #subtract"
   ]
  },
  {
   "cell_type": "code",
   "execution_count": 59,
   "metadata": {},
   "outputs": [
    {
     "name": "stdout",
     "output_type": "stream",
     "text": [
      "12.5\n"
     ]
    }
   ],
   "source": [
    "print(5*2.5) #multiply"
   ]
  },
  {
   "cell_type": "code",
   "execution_count": 60,
   "metadata": {},
   "outputs": [
    {
     "name": "stdout",
     "output_type": "stream",
     "text": [
      "2.0\n"
     ]
    }
   ],
   "source": [
    "print(4/2) #divide\n",
    "\n",
    "# Note: outputs a float!"
   ]
  },
  {
   "cell_type": "code",
   "execution_count": 61,
   "metadata": {},
   "outputs": [
    {
     "name": "stdout",
     "output_type": "stream",
     "text": [
      "8\n"
     ]
    }
   ],
   "source": [
    "# We can also do powers (exponents)\n",
    "print(2**3)"
   ]
  },
  {
   "attachments": {},
   "cell_type": "markdown",
   "metadata": {},
   "source": [
    "We can also do floor division (//) and modulo (%) operations, which you guys can explore on your own time."
   ]
  },
  {
   "attachments": {},
   "cell_type": "markdown",
   "metadata": {},
   "source": [
    "---"
   ]
  },
  {
   "attachments": {},
   "cell_type": "markdown",
   "metadata": {},
   "source": [
    "`str` (String) type"
   ]
  },
  {
   "cell_type": "code",
   "execution_count": null,
   "metadata": {},
   "outputs": [],
   "source": [
    "# Strings are used to store characters (text), and are surrounded by quotation marks\n",
    "'this is a string' # single quote\n",
    "\"this is a string\" # double quote"
   ]
  },
  {
   "cell_type": "code",
   "execution_count": 62,
   "metadata": {},
   "outputs": [
    {
     "name": "stdout",
     "output_type": "stream",
     "text": [
      "<class 'str'>\n"
     ]
    }
   ],
   "source": [
    "print(type(\"this is a string\"))"
   ]
  },
  {
   "attachments": {},
   "cell_type": "markdown",
   "metadata": {},
   "source": [
    "Strings can be **concatenated**, or combined, together with the **+** operator."
   ]
  },
  {
   "cell_type": "code",
   "execution_count": 63,
   "metadata": {},
   "outputs": [
    {
     "name": "stdout",
     "output_type": "stream",
     "text": [
      "My name is Nav.\n"
     ]
    }
   ],
   "source": [
    "print(\"My name is \" + \"Nav.\")"
   ]
  },
  {
   "attachments": {},
   "cell_type": "markdown",
   "metadata": {},
   "source": [
    "---"
   ]
  },
  {
   "attachments": {},
   "cell_type": "markdown",
   "metadata": {},
   "source": [
    "`bool` (Boolean) type"
   ]
  },
  {
   "attachments": {},
   "cell_type": "markdown",
   "metadata": {},
   "source": [
    "`True` or `False`"
   ]
  },
  {
   "cell_type": "code",
   "execution_count": 64,
   "metadata": {},
   "outputs": [
    {
     "name": "stdout",
     "output_type": "stream",
     "text": [
      "<class 'bool'>\n"
     ]
    }
   ],
   "source": [
    "print(type(True))"
   ]
  },
  {
   "cell_type": "code",
   "execution_count": 65,
   "metadata": {},
   "outputs": [
    {
     "name": "stdout",
     "output_type": "stream",
     "text": [
      "<class 'bool'>\n"
     ]
    }
   ],
   "source": [
    "print(type(False))"
   ]
  },
  {
   "attachments": {},
   "cell_type": "markdown",
   "metadata": {},
   "source": [
    "Booleans are the outputs of **boolean expressions**, which are questions we ask Python."
   ]
  },
  {
   "cell_type": "code",
   "execution_count": 66,
   "metadata": {},
   "outputs": [
    {
     "name": "stdout",
     "output_type": "stream",
     "text": [
      "True\n"
     ]
    }
   ],
   "source": [
    "# > asks \"Is __ greater than __?\"\n",
    "print(5 > 3)"
   ]
  },
  {
   "cell_type": "code",
   "execution_count": 67,
   "metadata": {},
   "outputs": [
    {
     "name": "stdout",
     "output_type": "stream",
     "text": [
      "False\n"
     ]
    }
   ],
   "source": [
    "# similar for <\n",
    "print(5 < 3)"
   ]
  },
  {
   "cell_type": "code",
   "execution_count": 68,
   "metadata": {},
   "outputs": [
    {
     "name": "stdout",
     "output_type": "stream",
     "text": [
      "True\n",
      "False\n"
     ]
    }
   ],
   "source": [
    "# >= means 'greater than or equal to'\n",
    "print(5 <= 5)\n",
    "\n",
    "# <= means 'less than or equal to'\n",
    "print(5.2 >= 6)\n"
   ]
  },
  {
   "cell_type": "code",
   "execution_count": 69,
   "metadata": {},
   "outputs": [
    {
     "name": "stdout",
     "output_type": "stream",
     "text": [
      "False\n",
      "True\n"
     ]
    }
   ],
   "source": [
    "# == asks \"Is __ equal to __?\"\n",
    "print(5 == 4)\n",
    "\n",
    "# != asks \"Is __ not equal to __?\"\n",
    "print(5.4 != 4)"
   ]
  },
  {
   "cell_type": "code",
   "execution_count": 70,
   "metadata": {},
   "outputs": [
    {
     "name": "stdout",
     "output_type": "stream",
     "text": [
      "False\n"
     ]
    }
   ],
   "source": [
    "# == and != work for strings too \n",
    "print('this' == 'that')"
   ]
  },
  {
   "attachments": {},
   "cell_type": "markdown",
   "metadata": {},
   "source": [
    "---"
   ]
  },
  {
   "attachments": {},
   "cell_type": "markdown",
   "metadata": {},
   "source": [
    "## Section 2: Variables"
   ]
  },
  {
   "attachments": {},
   "cell_type": "markdown",
   "metadata": {},
   "source": [
    "Variables are like boxes, where you put values of any data type."
   ]
  },
  {
   "cell_type": "code",
   "execution_count": 71,
   "metadata": {},
   "outputs": [
    {
     "name": "stdout",
     "output_type": "stream",
     "text": [
      "Pizza\n"
     ]
    }
   ],
   "source": [
    "nav_fav_food = 'Pizza'\n",
    "\n",
    "print(nav_fav_food) "
   ]
  },
  {
   "attachments": {},
   "cell_type": "markdown",
   "metadata": {},
   "source": [
    "What is the type of `nav_fav_food`?"
   ]
  },
  {
   "cell_type": "code",
   "execution_count": null,
   "metadata": {},
   "outputs": [],
   "source": [
    "num1 = 5.2\n",
    "num2 = 4.3\n",
    "\n",
    "num3 = num1 + num2\n",
    "print(num3)"
   ]
  },
  {
   "cell_type": "code",
   "execution_count": 72,
   "metadata": {},
   "outputs": [
    {
     "name": "stdout",
     "output_type": "stream",
     "text": [
      "170.18\n"
     ]
    }
   ],
   "source": [
    "height_inches = 67\n",
    "\n",
    "height_cm = height_inches * 2.54\n",
    "print(height_cm)"
   ]
  },
  {
   "attachments": {},
   "cell_type": "markdown",
   "metadata": {},
   "source": [
    "Challenge:"
   ]
  },
  {
   "cell_type": "code",
   "execution_count": null,
   "metadata": {},
   "outputs": [],
   "source": [
    "num = 5\n",
    "num = num + 1\n",
    "print(num)"
   ]
  },
  {
   "attachments": {},
   "cell_type": "markdown",
   "metadata": {},
   "source": [
    "---"
   ]
  },
  {
   "attachments": {},
   "cell_type": "markdown",
   "metadata": {},
   "source": [
    "## Exercise 1: Celsius to Fahrenheit\n",
    "\n",
    "1. Check the temperature on your phone, and store it in a variable called `temp_celsius`\n",
    "2. The formula to convert from Celsius to Fahrenheit is \n",
    "`(temp_celsius * 1.8) + 32`\n",
    "3. Store this value in a variable called `temp_fahrenheit`\n",
    "3. Print `temp_fahrenheit`"
   ]
  },
  {
   "cell_type": "code",
   "execution_count": null,
   "metadata": {},
   "outputs": [],
   "source": [
    "# Write your code here."
   ]
  },
  {
   "attachments": {},
   "cell_type": "markdown",
   "metadata": {},
   "source": [
    "---"
   ]
  },
  {
   "attachments": {},
   "cell_type": "markdown",
   "metadata": {},
   "source": [
    "## Section 3: Conditionals"
   ]
  },
  {
   "attachments": {},
   "cell_type": "markdown",
   "metadata": {},
   "source": [
    "`if` statements"
   ]
  },
  {
   "attachments": {},
   "cell_type": "markdown",
   "metadata": {},
   "source": [
    "**if** the kitchen is dirty --> we clean it\n",
    "\n",
    "**if** the temperature is low --> we put on a jacket"
   ]
  },
  {
   "cell_type": "code",
   "execution_count": null,
   "metadata": {},
   "outputs": [],
   "source": [
    "# Now in Python, we write these conditionals using Boolean expressions.\n",
    "\n",
    "nav_age = 19\n",
    "student_age = 17\n",
    "\n",
    "if (nav_age > student_age):\n",
    "    print('Nav is older.')"
   ]
  },
  {
   "attachments": {},
   "cell_type": "markdown",
   "metadata": {},
   "source": [
    "`else` statements are used to run code if the `if` condition is not satisfied."
   ]
  },
  {
   "cell_type": "code",
   "execution_count": null,
   "metadata": {},
   "outputs": [],
   "source": [
    "if (nav_age > student_age):\n",
    "    print('Nav is older.')\n",
    "else:\n",
    "    print('Student is older.')"
   ]
  },
  {
   "attachments": {},
   "cell_type": "markdown",
   "metadata": {},
   "source": [
    "For multiple conditions, use `and`, `or`, `not`."
   ]
  },
  {
   "cell_type": "code",
   "execution_count": null,
   "metadata": {},
   "outputs": [],
   "source": [
    "has_superpower = False\n",
    "name = 'Tony Stark'\n",
    "age = 85\n",
    "\n",
    "if (has_superpower == True) and (name == 'Steve Rogers'):\n",
    "    print('He is Captain America')\n",
    "\n",
    "if (has_superpower == False) and (name == 'Tony Stark'):\n",
    "    print('He is Iron Man')\n",
    "\n",
    "if not (name == 'Steve Rogers'):\n",
    "    print('He is not Captain America')\n",
    "\n",
    "if (name == 'Tony Stark') or (name == 'Steve Rogers'):\n",
    "    print('He is an Avenger')\n"
   ]
  },
  {
   "attachments": {},
   "cell_type": "markdown",
   "metadata": {},
   "source": [
    "---"
   ]
  },
  {
   "attachments": {},
   "cell_type": "markdown",
   "metadata": {},
   "source": [
    "## Section 4: Data Structures"
   ]
  },
  {
   "attachments": {},
   "cell_type": "markdown",
   "metadata": {},
   "source": [
    "We will learn Machine Learning specific data structures later on in the course, but it is still important to know the built in data structures in Python."
   ]
  },
  {
   "attachments": {},
   "cell_type": "markdown",
   "metadata": {},
   "source": [
    "The `list` data structure is used to store multiple items in a single variable."
   ]
  },
  {
   "cell_type": "code",
   "execution_count": 73,
   "metadata": {},
   "outputs": [
    {
     "name": "stdout",
     "output_type": "stream",
     "text": [
      "<class 'list'>\n"
     ]
    }
   ],
   "source": [
    "fav_food_list = ['pizza', 'pasta', 'shawarma']\n",
    "print(type(fav_food_list))"
   ]
  },
  {
   "cell_type": "code",
   "execution_count": 74,
   "metadata": {},
   "outputs": [
    {
     "name": "stdout",
     "output_type": "stream",
     "text": [
      "[True, 'python', 56.25, -3]\n"
     ]
    }
   ],
   "source": [
    "multiple_data_types = [True, 'python', 56.25, -3]\n",
    "print(multiple_data_types)"
   ]
  },
  {
   "attachments": {},
   "cell_type": "markdown",
   "metadata": {},
   "source": [
    "**Indexing** is used to access elements in the list, and starts counting at 0."
   ]
  },
  {
   "cell_type": "code",
   "execution_count": null,
   "metadata": {},
   "outputs": [],
   "source": [
    "print(fav_food_list[0])"
   ]
  },
  {
   "attachments": {},
   "cell_type": "markdown",
   "metadata": {},
   "source": [
    "Indexing can also be used to **mutate** (change) **elements** (parts) of the list."
   ]
  },
  {
   "cell_type": "code",
   "execution_count": null,
   "metadata": {},
   "outputs": [],
   "source": [
    "fav_food_list[0] = 'falafel'\n",
    "print(fav_food_list)\n"
   ]
  },
  {
   "attachments": {},
   "cell_type": "markdown",
   "metadata": {},
   "source": [
    "We can also add elements using `.append()`"
   ]
  },
  {
   "cell_type": "code",
   "execution_count": 1,
   "metadata": {},
   "outputs": [
    {
     "name": "stdout",
     "output_type": "stream",
     "text": [
      "['pizza', 'pasta', 'shawarma', 'ice cream']\n"
     ]
    }
   ],
   "source": [
    "fav_food_list = ['pizza', 'pasta', 'shawarma']\n",
    "\n",
    "fav_food_list.append('ice cream')\n",
    "print(fav_food_list)"
   ]
  },
  {
   "attachments": {},
   "cell_type": "markdown",
   "metadata": {},
   "source": [
    "The `tuple` data structure is similar to lists, but they cannot be mutated (changed)."
   ]
  },
  {
   "cell_type": "code",
   "execution_count": 75,
   "metadata": {},
   "outputs": [
    {
     "name": "stdout",
     "output_type": "stream",
     "text": [
      "<class 'tuple'>\n"
     ]
    }
   ],
   "source": [
    "fav_food_tuple = ('pizza', 'pasta', 'shawarma')\n",
    "print(type(fav_food_tuple))"
   ]
  },
  {
   "attachments": {},
   "cell_type": "markdown",
   "metadata": {},
   "source": [
    "The `dict` (Dictionary) data structure is very commonly used, and contains **key:value** pairs."
   ]
  },
  {
   "cell_type": "code",
   "execution_count": null,
   "metadata": {},
   "outputs": [],
   "source": [
    "student = {\n",
    "    'name': 'Nav',\n",
    "    'favorite subject': 'Computer Science',\n",
    "    'favorite number': 14,\n",
    "\n",
    "    5: 'ints can be keys too',\n",
    "    4.2: 'so can floats',\n",
    "    True: 'and bools',\n",
    "    'And anything can be a value as well': True\n",
    "}\n",
    "\n",
    "print(student)"
   ]
  },
  {
   "attachments": {},
   "cell_type": "markdown",
   "metadata": {},
   "source": [
    "Indexing in dictionaries is done with the key, and so is mutation."
   ]
  },
  {
   "cell_type": "code",
   "execution_count": 76,
   "metadata": {},
   "outputs": [
    {
     "name": "stdout",
     "output_type": "stream",
     "text": [
      "Nav\n"
     ]
    }
   ],
   "source": [
    "print(student['name'])"
   ]
  },
  {
   "cell_type": "code",
   "execution_count": 77,
   "metadata": {},
   "outputs": [
    {
     "name": "stdout",
     "output_type": "stream",
     "text": [
      "{'name': 'Nav', 'favorite subject': 'Computer Science', 'favorite number': 28, 5: 'ints can be keys too', 4.2: 'so can floats', True: 'and bools', 'And anything can be a value as well': True, 'age': 19}\n"
     ]
    }
   ],
   "source": [
    "student['age'] = 19\n",
    "student['favorite number'] = 28\n",
    "\n",
    "print(student)"
   ]
  },
  {
   "attachments": {},
   "cell_type": "markdown",
   "metadata": {},
   "source": [
    "The `set` data structure is also available in Python, but we will not be covering that in this course. But feel free to do your own research!"
   ]
  },
  {
   "attachments": {},
   "cell_type": "markdown",
   "metadata": {},
   "source": [
    "---"
   ]
  },
  {
   "attachments": {},
   "cell_type": "markdown",
   "metadata": {},
   "source": [
    "## Exercise 2\n",
    "\n",
    "1. Create a dictionary called `my_bio`, and give it at least 5 attributes you want (your name, favorite holiday, best friend...).\n",
    "2. Print `my_bio`.\n",
    "3. Change one of the attributes using **indexing**.\n",
    "4. Print `my_bio` again, and make sure it changed."
   ]
  },
  {
   "cell_type": "code",
   "execution_count": null,
   "metadata": {},
   "outputs": [],
   "source": [
    "# Write your code here."
   ]
  },
  {
   "attachments": {},
   "cell_type": "markdown",
   "metadata": {},
   "source": [
    "---"
   ]
  },
  {
   "attachments": {},
   "cell_type": "markdown",
   "metadata": {},
   "source": [
    "## Section 5: Loops"
   ]
  },
  {
   "attachments": {},
   "cell_type": "markdown",
   "metadata": {},
   "source": [
    "`for` loops are used to repeat code for a **fixed** number of times."
   ]
  },
  {
   "cell_type": "code",
   "execution_count": 78,
   "metadata": {},
   "outputs": [
    {
     "name": "stdout",
     "output_type": "stream",
     "text": [
      "New York\n",
      "Jerusalem\n",
      "Amman\n",
      "London\n",
      "Boston\n"
     ]
    }
   ],
   "source": [
    "fav_cities = ['New York', 'Jerusalem', 'Amman', 'London', 'Boston']\n",
    "\n",
    "for city in fav_cities:\n",
    "    print(city)"
   ]
  },
  {
   "cell_type": "code",
   "execution_count": 79,
   "metadata": {},
   "outputs": [
    {
     "name": "stdout",
     "output_type": "stream",
     "text": [
      "Still running.\n",
      "Still running.\n",
      "Still running.\n",
      "Still running.\n",
      "Still running.\n"
     ]
    }
   ],
   "source": [
    "for num in range(5):\n",
    "    print('Still running.')\n",
    "\n",
    "#Replace num with whatever variable name you would like"
   ]
  },
  {
   "cell_type": "code",
   "execution_count": 80,
   "metadata": {},
   "outputs": [
    {
     "name": "stdout",
     "output_type": "stream",
     "text": [
      "0\n",
      "1\n",
      "2\n",
      "3\n",
      "4\n"
     ]
    }
   ],
   "source": [
    "# Note: range operator also starts at 0\n",
    "\n",
    "for num in range(5):\n",
    "    print(num)\n"
   ]
  },
  {
   "cell_type": "code",
   "execution_count": null,
   "metadata": {},
   "outputs": [],
   "source": [
    "for num in range(5):\n",
    "    print(num == 3)"
   ]
  },
  {
   "cell_type": "code",
   "execution_count": 82,
   "metadata": {},
   "outputs": [
    {
     "name": "stdout",
     "output_type": "stream",
     "text": [
      "val1\n",
      "val2\n",
      "val3\n"
     ]
    }
   ],
   "source": [
    "# We can use for loops to iterate over dictionaries as well, getting the keys.\n",
    "\n",
    "example_dict = {\n",
    "    'key1': 'val1', \n",
    "    'key2': 'val2',\n",
    "    'key3': 'val3'\n",
    "    }\n",
    "\n",
    "for key in example_dict:\n",
    "    print(example_dict[key])\n"
   ]
  },
  {
   "attachments": {},
   "cell_type": "markdown",
   "metadata": {},
   "source": [
    "`while` loops are used to repeat code while a condition is being met."
   ]
  },
  {
   "cell_type": "code",
   "execution_count": 83,
   "metadata": {},
   "outputs": [
    {
     "name": "stdout",
     "output_type": "stream",
     "text": [
      "Still running.\n",
      "Still running.\n",
      "Still running.\n"
     ]
    }
   ],
   "source": [
    "counter = 0\n",
    "\n",
    "while (counter < 3):\n",
    "    print('Still running.')\n",
    "    counter = counter + 1"
   ]
  },
  {
   "attachments": {},
   "cell_type": "markdown",
   "metadata": {},
   "source": [
    "`break` is used to end a loop before it fully runs."
   ]
  },
  {
   "cell_type": "code",
   "execution_count": null,
   "metadata": {},
   "outputs": [],
   "source": [
    "dirty_socks = ['red', 'green', 'yellow', 'blue']\n",
    "\n",
    "for sock in dirty_socks:\n",
    "    if (sock == 'green'):\n",
    "        print('Found my green sock.')\n",
    "        break\n",
    "    \n",
    "    print('Picked up the wrong sock.')"
   ]
  },
  {
   "attachments": {},
   "cell_type": "markdown",
   "metadata": {},
   "source": [
    "---"
   ]
  },
  {
   "attachments": {},
   "cell_type": "markdown",
   "metadata": {},
   "source": [
    "# Section 6: Functions"
   ]
  },
  {
   "attachments": {},
   "cell_type": "markdown",
   "metadata": {},
   "source": [
    "Functions are like a recipe. They are a piece of code that you can give certain inputs, and they use those inputs to produce an output based on instructions you wrote."
   ]
  },
  {
   "cell_type": "code",
   "execution_count": null,
   "metadata": {},
   "outputs": [],
   "source": [
    "# Examples\n",
    "\n",
    "# built-in functions\n",
    "print('here')\n",
    "type(True)\n",
    "\n",
    "# custom functions\n",
    "def square(num):\n",
    "    squared_num = num ** 2\n",
    "    return squared_num\n",
    "print(square(2))"
   ]
  },
  {
   "attachments": {},
   "cell_type": "markdown",
   "metadata": {},
   "source": [
    "You need 6 components to write a function:\n",
    "\n",
    "1. `def` - this keyword tells Python you are about to start writing (*defining*) a function.\n",
    "2. `function_name` - whatever the name of your function will be, which you will use to use the function in the future.\n",
    "3. `arguments` - any inputs the function needs to execute the code\n",
    "4. `:` - this *colon* is used to end the line\n",
    "5. `body` - the code that is executed with the arguments (*the instructions for the recipe*)\n",
    "6. `return` - this keyword tells Python what we want the output of the function to be "
   ]
  },
  {
   "cell_type": "code",
   "execution_count": null,
   "metadata": {},
   "outputs": [],
   "source": [
    "def function_name(argument1, argument2):\n",
    "    \n",
    "    #body of the function\n",
    "    result = argument1 + argument2\n",
    "\n",
    "    return result"
   ]
  },
  {
   "cell_type": "code",
   "execution_count": null,
   "metadata": {},
   "outputs": [],
   "source": [
    "# Examine the square function again. \n",
    "# Talk to the person next to you about each part of the function.\n",
    "\n",
    "def square(num):\n",
    "    squared_num = num ** 2\n",
    "    return squared_num"
   ]
  },
  {
   "attachments": {},
   "cell_type": "markdown",
   "metadata": {},
   "source": [
    "To **call** the function (execute its code), write `function_name(arguments)`."
   ]
  },
  {
   "cell_type": "code",
   "execution_count": 84,
   "metadata": {},
   "outputs": [
    {
     "name": "stdout",
     "output_type": "stream",
     "text": [
      "4\n"
     ]
    }
   ],
   "source": [
    "def square(num):\n",
    "    squared_num = num ** 2\n",
    "    return squared_num\n",
    "\n",
    "result = square(2)\n",
    "\n",
    "print(result)"
   ]
  },
  {
   "cell_type": "code",
   "execution_count": 85,
   "metadata": {},
   "outputs": [
    {
     "name": "stdout",
     "output_type": "stream",
     "text": [
      "89.6\n"
     ]
    }
   ],
   "source": [
    "# Another example of a function, converting celsius to fahrenheit.\n",
    "\n",
    "def celsius_to_fahrenheit(temp_celsius):\n",
    "    \n",
    "    temp_fahrenheit = (temp_celsius * 1.8) + 32\n",
    "\n",
    "    return temp_fahrenheit\n",
    "\n",
    "temp_fahrenheit = celsius_to_fahrenheit(32)\n",
    "\n",
    "print(temp_fahrenheit)"
   ]
  },
  {
   "attachments": {},
   "cell_type": "markdown",
   "metadata": {},
   "source": [
    "---"
   ]
  },
  {
   "attachments": {},
   "cell_type": "markdown",
   "metadata": {},
   "source": [
    "## Exercise 3\n",
    "\n",
    "1. Write a function `cm_to_inches`, which takes as an argument height in centimeters, and returns the converted height in inches. (1 inch = 2.54 cm).\n",
    "2. Create a dictionary `celebrity_heights`, which has at least 3 celebrity names as keys and their heights in centimeters as values. \n",
    "3. Using a `for` loop, go through each celebrity, and print out their converted height in inches."
   ]
  },
  {
   "cell_type": "code",
   "execution_count": null,
   "metadata": {},
   "outputs": [],
   "source": [
    "# Write your code here."
   ]
  },
  {
   "attachments": {},
   "cell_type": "markdown",
   "metadata": {},
   "source": [
    "---"
   ]
  }
 ],
 "metadata": {
  "kernelspec": {
   "display_name": "Python 3",
   "language": "python",
   "name": "python3"
  },
  "language_info": {
   "codemirror_mode": {
    "name": "ipython",
    "version": 3
   },
   "file_extension": ".py",
   "mimetype": "text/x-python",
   "name": "python",
   "nbconvert_exporter": "python",
   "pygments_lexer": "ipython3",
   "version": "3.10.2"
  },
  "orig_nbformat": 4,
  "vscode": {
   "interpreter": {
    "hash": "2bcbe91854b9da4b66e5bc11a3610d0bab8ee781107d103766afe1405835d9e0"
   }
  }
 },
 "nbformat": 4,
 "nbformat_minor": 2
}
