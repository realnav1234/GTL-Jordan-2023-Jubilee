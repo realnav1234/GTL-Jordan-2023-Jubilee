{
 "cells": [
  {
   "attachments": {},
   "cell_type": "markdown",
   "metadata": {},
   "source": [
    "# Intro to PyTorch"
   ]
  },
  {
   "attachments": {},
   "cell_type": "markdown",
   "metadata": {},
   "source": [
    "---"
   ]
  },
  {
   "attachments": {},
   "cell_type": "markdown",
   "metadata": {},
   "source": [
    "## Section 0: Importing Libraries"
   ]
  },
  {
   "attachments": {},
   "cell_type": "markdown",
   "metadata": {},
   "source": [
    "Libraries such as PyTorch, NumPy, NLTK, and many others contain functions and methods that you can use in your code, and are often very useful. Libraries must be installed, which is usually done through Package Installer for Python `pip`. We have already installed all the libraries you need for this course on your device.\n",
    "\n",
    "However, when writing code, you must **import** those libraries into your code, so they can be used."
   ]
  },
  {
   "cell_type": "code",
   "execution_count": 13,
   "metadata": {},
   "outputs": [],
   "source": [
    "import torch # here we are importing PyTorch"
   ]
  },
  {
   "attachments": {},
   "cell_type": "markdown",
   "metadata": {},
   "source": [
    "While importing, we can rename the library, usually something shorter, so we don't have to retype the longer name every time we call a function from that library."
   ]
  },
  {
   "cell_type": "code",
   "execution_count": 14,
   "metadata": {},
   "outputs": [],
   "source": [
    "import numpy as np \n",
    "# from now on, we can refer to numpy as np, so we save time while writing code"
   ]
  },
  {
   "attachments": {},
   "cell_type": "markdown",
   "metadata": {},
   "source": [
    "To use functions, methods, pre-written code in general from a library, we use **dot notation** to access the methods within the library. "
   ]
  },
  {
   "cell_type": "code",
   "execution_count": 16,
   "metadata": {},
   "outputs": [],
   "source": [
    "a = np.array([1,2,3])"
   ]
  },
  {
   "attachments": {},
   "cell_type": "markdown",
   "metadata": {},
   "source": [
    "*Note*: No need to worry about specific `numpy` functions for now. "
   ]
  },
  {
   "attachments": {},
   "cell_type": "markdown",
   "metadata": {},
   "source": [
    "---"
   ]
  },
  {
   "attachments": {},
   "cell_type": "markdown",
   "metadata": {},
   "source": [
    "## Section 1: Tensors"
   ]
  },
  {
   "attachments": {},
   "cell_type": "markdown",
   "metadata": {},
   "source": [
    "**Tensors** are a special data structure in PyTorch, which are like a `list`, but allow us to do more powerful, machine learning related computations much easier. PyTorch tensors are built on NumPy arrays, which are also like lists."
   ]
  },
  {
   "cell_type": "code",
   "execution_count": 19,
   "metadata": {},
   "outputs": [
    {
     "name": "stdout",
     "output_type": "stream",
     "text": [
      "tensor([2.])\n"
     ]
    }
   ],
   "source": [
    "x = torch.tensor(2.0)\n",
    "print(x)"
   ]
  },
  {
   "cell_type": "code",
   "execution_count": 20,
   "metadata": {},
   "outputs": [
    {
     "name": "stdout",
     "output_type": "stream",
     "text": [
      "tensor([[2., 3.],\n",
      "        [1., 6.]])\n"
     ]
    }
   ],
   "source": [
    "# Multi-dimensional tensor\n",
    "y = torch.tensor([[2.0, 3.0], [1.0, 6.0]])\n",
    "print(y)\n"
   ]
  },
  {
   "attachments": {},
   "cell_type": "markdown",
   "metadata": {},
   "source": [
    "Basic operations can also be done to tensors."
   ]
  },
  {
   "cell_type": "code",
   "execution_count": 25,
   "metadata": {},
   "outputs": [
    {
     "name": "stdout",
     "output_type": "stream",
     "text": [
      "a  tensor([[0.9285, 0.2098],\n",
      "        [0.4366, 0.4695]])\n",
      "b  tensor([[0.6961, 0.1384],\n",
      "        [0.1186, 0.3853]])\n",
      "c  tensor([[1.6246, 0.3482],\n",
      "        [0.5552, 0.8548]])\n",
      "d  tensor([[0.2323, 0.0713],\n",
      "        [0.3179, 0.0842]])\n",
      "e  tensor([[0.6463, 0.0290],\n",
      "        [0.0518, 0.1809]])\n",
      "f  tensor([[1.3338, 1.5152],\n",
      "        [3.6797, 1.2184]])\n"
     ]
    }
   ],
   "source": [
    "a = torch.rand(2,2) # creates a 2x2 tensor with random values between 0 and 1\n",
    "b = torch.rand(2,2)\n",
    "c = a + b\n",
    "d = a - b\n",
    "e = a * b\n",
    "f = a / b\n",
    "\n",
    "print('a ', a)\n",
    "print('b ', b)\n",
    "print('c ', c)\n",
    "print('d ', d)\n",
    "print('e ', e)\n",
    "print('f ', f)"
   ]
  },
  {
   "attachments": {},
   "cell_type": "markdown",
   "metadata": {},
   "source": [
    "To get the element from a tensor with 1 element, we have to use the `.item()` method."
   ]
  },
  {
   "cell_type": "code",
   "execution_count": 26,
   "metadata": {},
   "outputs": [
    {
     "name": "stdout",
     "output_type": "stream",
     "text": [
      "tensor(2.)\n",
      "2.0\n"
     ]
    }
   ],
   "source": [
    "x = torch.tensor(2.0)\n",
    "print(x) # prints the whole tensor\n",
    "print(x.item()) # prints the value inside the tensor"
   ]
  },
  {
   "attachments": {},
   "cell_type": "markdown",
   "metadata": {},
   "source": [
    "To get the dimensions of a tensor, use the `.size()` method."
   ]
  },
  {
   "cell_type": "code",
   "execution_count": 29,
   "metadata": {},
   "outputs": [
    {
     "name": "stdout",
     "output_type": "stream",
     "text": [
      "torch.Size([5, 3])\n"
     ]
    }
   ],
   "source": [
    "y = torch.rand(5,3) # 5x3 tensor with random values from 0 to 1\n",
    "print(y.size())"
   ]
  },
  {
   "attachments": {},
   "cell_type": "markdown",
   "metadata": {},
   "source": [
    "To get a specific element from a tensor, use indexing."
   ]
  },
  {
   "cell_type": "code",
   "execution_count": 33,
   "metadata": {},
   "outputs": [
    {
     "name": "stdout",
     "output_type": "stream",
     "text": [
      "tensor([[0.3273, 0.4554, 0.0858],\n",
      "        [0.4682, 0.2158, 0.6559]])\n",
      "tensor(0.0858)\n"
     ]
    }
   ],
   "source": [
    "y = torch.rand(2,3)\n",
    "print(y)\n",
    "print(y[0,2])"
   ]
  },
  {
   "attachments": {},
   "cell_type": "markdown",
   "metadata": {},
   "source": [
    "---"
   ]
  },
  {
   "attachments": {},
   "cell_type": "markdown",
   "metadata": {},
   "source": [
    "## Section 2: Gradient Calculation"
   ]
  },
  {
   "attachments": {},
   "cell_type": "markdown",
   "metadata": {},
   "source": [
    "Tensors in PyTorch allow us to calculate gradients very easily, using the Autograd package. \n",
    "\n",
    "To use this, we need to specify `requires_grad = True`, to let PyTorch know it needs to keep track of the gradients as we go through our calculations."
   ]
  },
  {
   "cell_type": "code",
   "execution_count": 41,
   "metadata": {},
   "outputs": [],
   "source": [
    "x = torch.rand(5, requires_grad=True)"
   ]
  },
  {
   "attachments": {},
   "cell_type": "markdown",
   "metadata": {},
   "source": [
    "Now we can manipulate our tensors any way we like."
   ]
  },
  {
   "cell_type": "code",
   "execution_count": 42,
   "metadata": {},
   "outputs": [
    {
     "name": "stdout",
     "output_type": "stream",
     "text": [
      "tensor([0.7911, 0.2740, 1.4945, 0.2830, 1.2478], grad_fn=<MulBackward0>)\n"
     ]
    }
   ],
   "source": [
    "y = 2 * x\n",
    "print(y)"
   ]
  },
  {
   "cell_type": "code",
   "execution_count": 43,
   "metadata": {},
   "outputs": [
    {
     "name": "stdout",
     "output_type": "stream",
     "text": [
      "tensor([0.4951, 0.0206, 3.3383, 0.0227, 1.9430], grad_fn=<MulBackward0>)\n"
     ]
    }
   ],
   "source": [
    "c = y * y * y\n",
    "print(c)"
   ]
  },
  {
   "attachments": {},
   "cell_type": "markdown",
   "metadata": {},
   "source": [
    "We want our final output to be just 1 number. There are many ways to do this."
   ]
  },
  {
   "cell_type": "code",
   "execution_count": 44,
   "metadata": {},
   "outputs": [
    {
     "name": "stdout",
     "output_type": "stream",
     "text": [
      "tensor(1.1639, grad_fn=<MeanBackward0>)\n"
     ]
    }
   ],
   "source": [
    "c = c.mean()\n",
    "print(c)"
   ]
  },
  {
   "attachments": {},
   "cell_type": "markdown",
   "metadata": {},
   "source": [
    "PyTorch has kept track of all of the operations we have done on our tensors. Now, it can go backward and calculate the gradients."
   ]
  },
  {
   "cell_type": "code",
   "execution_count": 45,
   "metadata": {},
   "outputs": [],
   "source": [
    "c.backward()"
   ]
  },
  {
   "attachments": {},
   "cell_type": "markdown",
   "metadata": {},
   "source": [
    "The gradient dC/dx is stored in the tensor x"
   ]
  },
  {
   "cell_type": "code",
   "execution_count": 47,
   "metadata": {},
   "outputs": [
    {
     "name": "stdout",
     "output_type": "stream",
     "text": [
      "tensor([0.7510, 0.0901, 2.6804, 0.0961, 1.8685])\n"
     ]
    }
   ],
   "source": [
    "print(x.grad)"
   ]
  },
  {
   "attachments": {},
   "cell_type": "markdown",
   "metadata": {},
   "source": [
    "*Note*: Often we calculate the gradients many times, so after every cycle we use `.grad.zero_()` to reset the gradient values."
   ]
  },
  {
   "cell_type": "code",
   "execution_count": 48,
   "metadata": {},
   "outputs": [
    {
     "data": {
      "text/plain": [
       "tensor([0., 0., 0., 0., 0.])"
      ]
     },
     "execution_count": 48,
     "metadata": {},
     "output_type": "execute_result"
    }
   ],
   "source": [
    "x.grad.zero_()"
   ]
  }
 ],
 "metadata": {
  "kernelspec": {
   "display_name": "Python 3",
   "language": "python",
   "name": "python3"
  },
  "language_info": {
   "codemirror_mode": {
    "name": "ipython",
    "version": 3
   },
   "file_extension": ".py",
   "mimetype": "text/x-python",
   "name": "python",
   "nbconvert_exporter": "python",
   "pygments_lexer": "ipython3",
   "version": "3.10.2"
  },
  "orig_nbformat": 4,
  "vscode": {
   "interpreter": {
    "hash": "2bcbe91854b9da4b66e5bc11a3610d0bab8ee781107d103766afe1405835d9e0"
   }
  }
 },
 "nbformat": 4,
 "nbformat_minor": 2
}
